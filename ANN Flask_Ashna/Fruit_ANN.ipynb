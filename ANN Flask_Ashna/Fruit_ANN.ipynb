{
 "cells": [
  {
   "cell_type": "code",
   "execution_count": 1,
   "id": "7373a6c7",
   "metadata": {},
   "outputs": [],
   "source": [
    "#import libraries\n",
    "import numpy as np\n",
    "import pandas as pd"
   ]
  },
  {
   "cell_type": "code",
   "execution_count": 8,
   "id": "aa8d0988",
   "metadata": {},
   "outputs": [],
   "source": [
    "dataset=pd.read_csv(r\"D:\\myproject\\fruit_colors.csv\")"
   ]
  },
  {
   "cell_type": "code",
   "execution_count": 9,
   "id": "37596494",
   "metadata": {},
   "outputs": [
    {
     "data": {
      "text/html": [
       "<div>\n",
       "<style scoped>\n",
       "    .dataframe tbody tr th:only-of-type {\n",
       "        vertical-align: middle;\n",
       "    }\n",
       "\n",
       "    .dataframe tbody tr th {\n",
       "        vertical-align: top;\n",
       "    }\n",
       "\n",
       "    .dataframe thead th {\n",
       "        text-align: right;\n",
       "    }\n",
       "</style>\n",
       "<table border=\"1\" class=\"dataframe\">\n",
       "  <thead>\n",
       "    <tr style=\"text-align: right;\">\n",
       "      <th></th>\n",
       "      <th>fruit_label</th>\n",
       "      <th>fruit_name</th>\n",
       "      <th>fruit_subtype</th>\n",
       "      <th>mass</th>\n",
       "      <th>width</th>\n",
       "      <th>height</th>\n",
       "      <th>color_score</th>\n",
       "    </tr>\n",
       "  </thead>\n",
       "  <tbody>\n",
       "    <tr>\n",
       "      <th>0</th>\n",
       "      <td>1</td>\n",
       "      <td>apple</td>\n",
       "      <td>granny_smith</td>\n",
       "      <td>192</td>\n",
       "      <td>8.4</td>\n",
       "      <td>7.3</td>\n",
       "      <td>0.55</td>\n",
       "    </tr>\n",
       "    <tr>\n",
       "      <th>1</th>\n",
       "      <td>1</td>\n",
       "      <td>apple</td>\n",
       "      <td>granny_smith</td>\n",
       "      <td>180</td>\n",
       "      <td>8.0</td>\n",
       "      <td>6.8</td>\n",
       "      <td>0.59</td>\n",
       "    </tr>\n",
       "    <tr>\n",
       "      <th>2</th>\n",
       "      <td>1</td>\n",
       "      <td>apple</td>\n",
       "      <td>granny_smith</td>\n",
       "      <td>176</td>\n",
       "      <td>7.4</td>\n",
       "      <td>7.2</td>\n",
       "      <td>0.60</td>\n",
       "    </tr>\n",
       "    <tr>\n",
       "      <th>3</th>\n",
       "      <td>2</td>\n",
       "      <td>mandarin</td>\n",
       "      <td>mandarin</td>\n",
       "      <td>86</td>\n",
       "      <td>6.2</td>\n",
       "      <td>4.7</td>\n",
       "      <td>0.80</td>\n",
       "    </tr>\n",
       "    <tr>\n",
       "      <th>4</th>\n",
       "      <td>2</td>\n",
       "      <td>mandarin</td>\n",
       "      <td>mandarin</td>\n",
       "      <td>84</td>\n",
       "      <td>6.0</td>\n",
       "      <td>4.6</td>\n",
       "      <td>0.79</td>\n",
       "    </tr>\n",
       "    <tr>\n",
       "      <th>5</th>\n",
       "      <td>2</td>\n",
       "      <td>mandarin</td>\n",
       "      <td>mandarin</td>\n",
       "      <td>80</td>\n",
       "      <td>5.8</td>\n",
       "      <td>4.3</td>\n",
       "      <td>0.77</td>\n",
       "    </tr>\n",
       "    <tr>\n",
       "      <th>6</th>\n",
       "      <td>2</td>\n",
       "      <td>mandarin</td>\n",
       "      <td>mandarin</td>\n",
       "      <td>80</td>\n",
       "      <td>5.9</td>\n",
       "      <td>4.3</td>\n",
       "      <td>0.81</td>\n",
       "    </tr>\n",
       "    <tr>\n",
       "      <th>7</th>\n",
       "      <td>2</td>\n",
       "      <td>mandarin</td>\n",
       "      <td>mandarin</td>\n",
       "      <td>76</td>\n",
       "      <td>5.8</td>\n",
       "      <td>4.0</td>\n",
       "      <td>0.81</td>\n",
       "    </tr>\n",
       "    <tr>\n",
       "      <th>8</th>\n",
       "      <td>1</td>\n",
       "      <td>apple</td>\n",
       "      <td>braeburn</td>\n",
       "      <td>178</td>\n",
       "      <td>7.1</td>\n",
       "      <td>7.8</td>\n",
       "      <td>0.92</td>\n",
       "    </tr>\n",
       "    <tr>\n",
       "      <th>9</th>\n",
       "      <td>1</td>\n",
       "      <td>apple</td>\n",
       "      <td>braeburn</td>\n",
       "      <td>172</td>\n",
       "      <td>7.4</td>\n",
       "      <td>7.0</td>\n",
       "      <td>0.89</td>\n",
       "    </tr>\n",
       "    <tr>\n",
       "      <th>10</th>\n",
       "      <td>1</td>\n",
       "      <td>apple</td>\n",
       "      <td>braeburn</td>\n",
       "      <td>166</td>\n",
       "      <td>6.9</td>\n",
       "      <td>7.3</td>\n",
       "      <td>0.93</td>\n",
       "    </tr>\n",
       "  </tbody>\n",
       "</table>\n",
       "</div>"
      ],
      "text/plain": [
       "    fruit_label fruit_name fruit_subtype  mass  width  height  color_score\n",
       "0             1      apple  granny_smith   192    8.4     7.3         0.55\n",
       "1             1      apple  granny_smith   180    8.0     6.8         0.59\n",
       "2             1      apple  granny_smith   176    7.4     7.2         0.60\n",
       "3             2   mandarin      mandarin    86    6.2     4.7         0.80\n",
       "4             2   mandarin      mandarin    84    6.0     4.6         0.79\n",
       "5             2   mandarin      mandarin    80    5.8     4.3         0.77\n",
       "6             2   mandarin      mandarin    80    5.9     4.3         0.81\n",
       "7             2   mandarin      mandarin    76    5.8     4.0         0.81\n",
       "8             1      apple      braeburn   178    7.1     7.8         0.92\n",
       "9             1      apple      braeburn   172    7.4     7.0         0.89\n",
       "10            1      apple      braeburn   166    6.9     7.3         0.93"
      ]
     },
     "execution_count": 9,
     "metadata": {},
     "output_type": "execute_result"
    }
   ],
   "source": [
    "dataset.head(11)"
   ]
  },
  {
   "cell_type": "code",
   "execution_count": 10,
   "id": "4b1675c6",
   "metadata": {},
   "outputs": [
    {
     "data": {
      "text/plain": [
       "fruit_label      False\n",
       "fruit_name       False\n",
       "fruit_subtype    False\n",
       "mass             False\n",
       "width            False\n",
       "height           False\n",
       "color_score      False\n",
       "dtype: bool"
      ]
     },
     "execution_count": 10,
     "metadata": {},
     "output_type": "execute_result"
    }
   ],
   "source": [
    "dataset.isnull().any()"
   ]
  },
  {
   "cell_type": "code",
   "execution_count": 30,
   "id": "7f57efd4",
   "metadata": {},
   "outputs": [
    {
     "name": "stdout",
     "output_type": "stream",
     "text": [
      "<class 'pandas.core.frame.DataFrame'>\n",
      "RangeIndex: 59 entries, 0 to 58\n",
      "Data columns (total 7 columns):\n",
      " #   Column         Non-Null Count  Dtype  \n",
      "---  ------         --------------  -----  \n",
      " 0   fruit_label    59 non-null     int64  \n",
      " 1   fruit_name     59 non-null     object \n",
      " 2   fruit_subtype  59 non-null     object \n",
      " 3   mass           59 non-null     int64  \n",
      " 4   width          59 non-null     float64\n",
      " 5   height         59 non-null     float64\n",
      " 6   color_score    59 non-null     float64\n",
      "dtypes: float64(3), int64(2), object(2)\n",
      "memory usage: 3.4+ KB\n"
     ]
    }
   ],
   "source": [
    "dataset.info()"
   ]
  },
  {
   "cell_type": "code",
   "execution_count": 13,
   "id": "ff00f325",
   "metadata": {},
   "outputs": [],
   "source": [
    "i= dataset.iloc[:,0:7].values\n",
    "o= dataset.iloc[:,7:].values"
   ]
  },
  {
   "cell_type": "code",
   "execution_count": 14,
   "id": "82a9c12c",
   "metadata": {},
   "outputs": [
    {
     "data": {
      "text/plain": [
       "array([[1, 'apple', 'granny_smith', 192, 8.4, 7.3, 0.55],\n",
       "       [1, 'apple', 'granny_smith', 180, 8.0, 6.8, 0.59],\n",
       "       [1, 'apple', 'granny_smith', 176, 7.4, 7.2, 0.6],\n",
       "       [2, 'mandarin', 'mandarin', 86, 6.2, 4.7, 0.8],\n",
       "       [2, 'mandarin', 'mandarin', 84, 6.0, 4.6, 0.79],\n",
       "       [2, 'mandarin', 'mandarin', 80, 5.8, 4.3, 0.77],\n",
       "       [2, 'mandarin', 'mandarin', 80, 5.9, 4.3, 0.81],\n",
       "       [2, 'mandarin', 'mandarin', 76, 5.8, 4.0, 0.81],\n",
       "       [1, 'apple', 'braeburn', 178, 7.1, 7.8, 0.92],\n",
       "       [1, 'apple', 'braeburn', 172, 7.4, 7.0, 0.89],\n",
       "       [1, 'apple', 'braeburn', 166, 6.9, 7.3, 0.93],\n",
       "       [1, 'apple', 'braeburn', 172, 7.1, 7.6, 0.92],\n",
       "       [1, 'apple', 'braeburn', 154, 7.0, 7.1, 0.88],\n",
       "       [1, 'apple', 'golden_delicious', 164, 7.3, 7.7, 0.7],\n",
       "       [1, 'apple', 'golden_delicious', 152, 7.6, 7.3, 0.69],\n",
       "       [1, 'apple', 'golden_delicious', 156, 7.7, 7.1, 0.69],\n",
       "       [1, 'apple', 'golden_delicious', 156, 7.6, 7.5, 0.67],\n",
       "       [1, 'apple', 'golden_delicious', 168, 7.5, 7.6, 0.73],\n",
       "       [1, 'apple', 'cripps_pink', 162, 7.5, 7.1, 0.83],\n",
       "       [1, 'apple', 'cripps_pink', 162, 7.4, 7.2, 0.85],\n",
       "       [1, 'apple', 'cripps_pink', 160, 7.5, 7.5, 0.86],\n",
       "       [1, 'apple', 'cripps_pink', 156, 7.4, 7.4, 0.84],\n",
       "       [1, 'apple', 'cripps_pink', 140, 7.3, 7.1, 0.87],\n",
       "       [1, 'apple', 'cripps_pink', 170, 7.6, 7.9, 0.88],\n",
       "       [3, 'orange', 'spanish_jumbo', 342, 9.0, 9.4, 0.75],\n",
       "       [3, 'orange', 'spanish_jumbo', 356, 9.2, 9.2, 0.75],\n",
       "       [3, 'orange', 'spanish_jumbo', 362, 9.6, 9.2, 0.74],\n",
       "       [3, 'orange', 'selected_seconds', 204, 7.5, 9.2, 0.77],\n",
       "       [3, 'orange', 'selected_seconds', 140, 6.7, 7.1, 0.72],\n",
       "       [3, 'orange', 'selected_seconds', 160, 7.0, 7.4, 0.81],\n",
       "       [3, 'orange', 'selected_seconds', 158, 7.1, 7.5, 0.79],\n",
       "       [3, 'orange', 'selected_seconds', 210, 7.8, 8.0, 0.82],\n",
       "       [3, 'orange', 'selected_seconds', 164, 7.2, 7.0, 0.8],\n",
       "       [3, 'orange', 'turkey_navel', 190, 7.5, 8.1, 0.74],\n",
       "       [3, 'orange', 'turkey_navel', 142, 7.6, 7.8, 0.75],\n",
       "       [3, 'orange', 'turkey_navel', 150, 7.1, 7.9, 0.75],\n",
       "       [3, 'orange', 'turkey_navel', 160, 7.1, 7.6, 0.76],\n",
       "       [3, 'orange', 'turkey_navel', 154, 7.3, 7.3, 0.79],\n",
       "       [3, 'orange', 'turkey_navel', 158, 7.2, 7.8, 0.77],\n",
       "       [3, 'orange', 'turkey_navel', 144, 6.8, 7.4, 0.75],\n",
       "       [3, 'orange', 'turkey_navel', 154, 7.1, 7.5, 0.78],\n",
       "       [3, 'orange', 'turkey_navel', 180, 7.6, 8.2, 0.79],\n",
       "       [3, 'orange', 'turkey_navel', 154, 7.2, 7.2, 0.82],\n",
       "       [4, 'lemon', 'spanish_belsan', 194, 7.2, 10.3, 0.7],\n",
       "       [4, 'lemon', 'spanish_belsan', 200, 7.3, 10.5, 0.72],\n",
       "       [4, 'lemon', 'spanish_belsan', 186, 7.2, 9.2, 0.72],\n",
       "       [4, 'lemon', 'spanish_belsan', 216, 7.3, 10.2, 0.71],\n",
       "       [4, 'lemon', 'spanish_belsan', 196, 7.3, 9.7, 0.72],\n",
       "       [4, 'lemon', 'spanish_belsan', 174, 7.3, 10.1, 0.72],\n",
       "       [4, 'lemon', 'unknown', 132, 5.8, 8.7, 0.73],\n",
       "       [4, 'lemon', 'unknown', 130, 6.0, 8.2, 0.71],\n",
       "       [4, 'lemon', 'unknown', 116, 6.0, 7.5, 0.72],\n",
       "       [4, 'lemon', 'unknown', 118, 5.9, 8.0, 0.72],\n",
       "       [4, 'lemon', 'unknown', 120, 6.0, 8.4, 0.74],\n",
       "       [4, 'lemon', 'unknown', 116, 6.1, 8.5, 0.71],\n",
       "       [4, 'lemon', 'unknown', 116, 6.3, 7.7, 0.72],\n",
       "       [4, 'lemon', 'unknown', 116, 5.9, 8.1, 0.73],\n",
       "       [4, 'lemon', 'unknown', 152, 6.5, 8.5, 0.72],\n",
       "       [4, 'lemon', 'unknown', 118, 6.1, 8.1, 0.7]], dtype=object)"
      ]
     },
     "execution_count": 14,
     "metadata": {},
     "output_type": "execute_result"
    }
   ],
   "source": [
    "i"
   ]
  },
  {
   "cell_type": "code",
   "execution_count": 15,
   "id": "c63ba8d0",
   "metadata": {},
   "outputs": [
    {
     "data": {
      "text/plain": [
       "array([], shape=(59, 0), dtype=float64)"
      ]
     },
     "execution_count": 15,
     "metadata": {},
     "output_type": "execute_result"
    }
   ],
   "source": [
    "o"
   ]
  },
  {
   "cell_type": "code",
   "execution_count": 16,
   "id": "03bb326c",
   "metadata": {},
   "outputs": [
    {
     "data": {
      "text/plain": [
       "(59, 7)"
      ]
     },
     "execution_count": 16,
     "metadata": {},
     "output_type": "execute_result"
    }
   ],
   "source": [
    "i.shape"
   ]
  },
  {
   "cell_type": "code",
   "execution_count": 17,
   "id": "8e1351e9",
   "metadata": {},
   "outputs": [
    {
     "data": {
      "text/plain": [
       "(59, 0)"
      ]
     },
     "execution_count": 17,
     "metadata": {},
     "output_type": "execute_result"
    }
   ],
   "source": [
    "o.shape"
   ]
  },
  {
   "cell_type": "code",
   "execution_count": 19,
   "id": "02022dd4",
   "metadata": {},
   "outputs": [],
   "source": [
    "from sklearn.compose import ColumnTransformer\n",
    "from sklearn.preprocessing import OneHotEncoder"
   ]
  },
  {
   "cell_type": "code",
   "execution_count": 22,
   "id": "d84e4bba",
   "metadata": {},
   "outputs": [],
   "source": [
    "ct = ColumnTransformer([(\"one\",OneHotEncoder(),[1,2])],remainder = \"passthrough\")\n",
    "i = ct.fit_transform(i)"
   ]
  },
  {
   "cell_type": "code",
   "execution_count": 23,
   "id": "692c3495",
   "metadata": {},
   "outputs": [],
   "source": [
    "from sklearn.model_selection import train_test_split\n",
    "i_train,i_test,o_train,o_test = train_test_split(i,o,test_size = 0.2,random_state = 0)"
   ]
  },
  {
   "cell_type": "code",
   "execution_count": 24,
   "id": "d32f1497",
   "metadata": {},
   "outputs": [
    {
     "name": "stdout",
     "output_type": "stream",
     "text": [
      "(59, 19) input shape\n",
      "(59, 0) output shape\n",
      "(47, 19) input_train shape\n",
      "(12, 19) input_test shape\n",
      "(47, 0) output_train shape\n",
      "(12, 0) output_test shape\n"
     ]
    }
   ],
   "source": [
    "print(i.shape,\"input shape\")\n",
    "print(o.shape,\"output shape\")\n",
    "print(i_train.shape,\"input_train shape\")\n",
    "print(i_test.shape,\"input_test shape\")\n",
    "print(o_train.shape,\"output_train shape\")\n",
    "print(o_test.shape,\"output_test shape\")"
   ]
  },
  {
   "cell_type": "code",
   "execution_count": 25,
   "id": "5e848054",
   "metadata": {},
   "outputs": [
    {
     "data": {
      "text/plain": [
       "(47, 19)"
      ]
     },
     "execution_count": 25,
     "metadata": {},
     "output_type": "execute_result"
    }
   ],
   "source": [
    "i_train.shape"
   ]
  },
  {
   "cell_type": "code",
   "execution_count": 26,
   "id": "ed5e31a8",
   "metadata": {},
   "outputs": [
    {
     "data": {
      "text/plain": [
       "(47, 0)"
      ]
     },
     "execution_count": 26,
     "metadata": {},
     "output_type": "execute_result"
    }
   ],
   "source": [
    "o_train.shape"
   ]
  },
  {
   "cell_type": "code",
   "execution_count": 28,
   "id": "c4b1c387",
   "metadata": {},
   "outputs": [],
   "source": [
    "from sklearn.preprocessing import StandardScaler\n",
    "s = StandardScaler()\n",
    "i_train = s.fit_transform(i_train)\n",
    "i_test = s.fit_transform(i_test)"
   ]
  },
  {
   "cell_type": "code",
   "execution_count": 29,
   "id": "b5c55bc9",
   "metadata": {},
   "outputs": [],
   "source": [
    "from tensorflow.keras.models import Sequential\n",
    "from tensorflow.keras.layers import Dense\n",
    "regression = Sequential()"
   ]
  },
  {
   "cell_type": "code",
   "execution_count": 31,
   "id": "cf2e9322",
   "metadata": {},
   "outputs": [],
   "source": [
    "regression.add(Dense(units=7, kernel_initializer=\"random_uniform\", activation=\"relu\"))"
   ]
  },
  {
   "cell_type": "code",
   "execution_count": 32,
   "id": "9ac87480",
   "metadata": {},
   "outputs": [],
   "source": [
    "regression.add(Dense(units=12, kernel_initializer = \"random_uniform\", activation=\"relu\")) #hidden layer"
   ]
  },
  {
   "cell_type": "code",
   "execution_count": 33,
   "id": "185d7358",
   "metadata": {},
   "outputs": [],
   "source": [
    "regression.add(Dense(units=12, kernel_initializer = \"random_uniform\", activation=\"relu\")) #hidden layer"
   ]
  },
  {
   "cell_type": "code",
   "execution_count": 34,
   "id": "5e488a44",
   "metadata": {},
   "outputs": [],
   "source": [
    "regression.add(Dense(units=12, kernel_initializer = \"random_uniform\", activation=\"relu\")) #hidden layer"
   ]
  },
  {
   "cell_type": "code",
   "execution_count": 35,
   "id": "87b31d5c",
   "metadata": {},
   "outputs": [],
   "source": [
    "regression.add(Dense(units=1, kernel_initializer = \"random_uniform\", activation=\"relu\"))"
   ]
  },
  {
   "cell_type": "code",
   "execution_count": 36,
   "id": "cb9453fd",
   "metadata": {},
   "outputs": [],
   "source": [
    "regression.compile(optimizer=\"rmsprop\", loss=\"mse\" ,metrics=[\"mse\"])"
   ]
  },
  {
   "cell_type": "code",
   "execution_count": 37,
   "id": "55749112",
   "metadata": {},
   "outputs": [
    {
     "name": "stdout",
     "output_type": "stream",
     "text": [
      "Epoch 1/50\n",
      "2/2 [==============================] - 1s 18ms/step - loss: nan - mse: nan\n",
      "Epoch 2/50\n",
      "2/2 [==============================] - 0s 6ms/step - loss: nan - mse: nan\n",
      "Epoch 3/50\n",
      "2/2 [==============================] - 0s 7ms/step - loss: nan - mse: nan\n",
      "Epoch 4/50\n",
      "2/2 [==============================] - 0s 5ms/step - loss: nan - mse: nan\n",
      "Epoch 5/50\n",
      "2/2 [==============================] - 0s 6ms/step - loss: nan - mse: nan\n",
      "Epoch 6/50\n",
      "2/2 [==============================] - 0s 6ms/step - loss: nan - mse: nan\n",
      "Epoch 7/50\n",
      "2/2 [==============================] - 0s 7ms/step - loss: nan - mse: nan\n",
      "Epoch 8/50\n",
      "2/2 [==============================] - 0s 6ms/step - loss: nan - mse: nan\n",
      "Epoch 9/50\n",
      "2/2 [==============================] - 0s 6ms/step - loss: nan - mse: nan\n",
      "Epoch 10/50\n",
      "2/2 [==============================] - 0s 7ms/step - loss: nan - mse: nan\n",
      "Epoch 11/50\n",
      "2/2 [==============================] - 0s 5ms/step - loss: nan - mse: nan\n",
      "Epoch 12/50\n",
      "2/2 [==============================] - 0s 6ms/step - loss: nan - mse: nan\n",
      "Epoch 13/50\n",
      "2/2 [==============================] - 0s 7ms/step - loss: nan - mse: nan\n",
      "Epoch 14/50\n",
      "2/2 [==============================] - 0s 6ms/step - loss: nan - mse: nan\n",
      "Epoch 15/50\n",
      "2/2 [==============================] - 0s 8ms/step - loss: nan - mse: nan\n",
      "Epoch 16/50\n",
      "2/2 [==============================] - 0s 6ms/step - loss: nan - mse: nan\n",
      "Epoch 17/50\n",
      "2/2 [==============================] - 0s 7ms/step - loss: nan - mse: nan\n",
      "Epoch 18/50\n",
      "2/2 [==============================] - 0s 8ms/step - loss: nan - mse: nan\n",
      "Epoch 19/50\n",
      "2/2 [==============================] - 0s 8ms/step - loss: nan - mse: nan\n",
      "Epoch 20/50\n",
      "2/2 [==============================] - 0s 6ms/step - loss: nan - mse: nan\n",
      "Epoch 21/50\n",
      "2/2 [==============================] - 0s 7ms/step - loss: nan - mse: nan\n",
      "Epoch 22/50\n",
      "2/2 [==============================] - 0s 6ms/step - loss: nan - mse: nan\n",
      "Epoch 23/50\n",
      "2/2 [==============================] - 0s 8ms/step - loss: nan - mse: nan\n",
      "Epoch 24/50\n",
      "2/2 [==============================] - 0s 7ms/step - loss: nan - mse: nan\n",
      "Epoch 25/50\n",
      "2/2 [==============================] - 0s 8ms/step - loss: nan - mse: nan\n",
      "Epoch 26/50\n",
      "2/2 [==============================] - 0s 8ms/step - loss: nan - mse: nan\n",
      "Epoch 27/50\n",
      "2/2 [==============================] - 0s 6ms/step - loss: nan - mse: nan\n",
      "Epoch 28/50\n",
      "2/2 [==============================] - 0s 5ms/step - loss: nan - mse: nan\n",
      "Epoch 29/50\n",
      "2/2 [==============================] - 0s 6ms/step - loss: nan - mse: nan\n",
      "Epoch 30/50\n",
      "2/2 [==============================] - 0s 6ms/step - loss: nan - mse: nan\n",
      "Epoch 31/50\n",
      "2/2 [==============================] - 0s 5ms/step - loss: nan - mse: nan\n",
      "Epoch 32/50\n",
      "2/2 [==============================] - 0s 5ms/step - loss: nan - mse: nan\n",
      "Epoch 33/50\n",
      "2/2 [==============================] - 0s 6ms/step - loss: nan - mse: nan\n",
      "Epoch 34/50\n",
      "2/2 [==============================] - 0s 5ms/step - loss: nan - mse: nan\n",
      "Epoch 35/50\n",
      "2/2 [==============================] - 0s 6ms/step - loss: nan - mse: nan\n",
      "Epoch 36/50\n",
      "2/2 [==============================] - 0s 7ms/step - loss: nan - mse: nan\n",
      "Epoch 37/50\n",
      "2/2 [==============================] - 0s 5ms/step - loss: nan - mse: nan\n",
      "Epoch 38/50\n",
      "2/2 [==============================] - 0s 5ms/step - loss: nan - mse: nan\n",
      "Epoch 39/50\n",
      "2/2 [==============================] - 0s 6ms/step - loss: nan - mse: nan\n",
      "Epoch 40/50\n",
      "2/2 [==============================] - 0s 3ms/step - loss: nan - mse: nan\n",
      "Epoch 41/50\n",
      "2/2 [==============================] - 0s 4ms/step - loss: nan - mse: nan\n",
      "Epoch 42/50\n",
      "2/2 [==============================] - 0s 4ms/step - loss: nan - mse: nan\n",
      "Epoch 43/50\n",
      "2/2 [==============================] - 0s 3ms/step - loss: nan - mse: nan\n",
      "Epoch 44/50\n",
      "2/2 [==============================] - 0s 3ms/step - loss: nan - mse: nan\n",
      "Epoch 45/50\n",
      "2/2 [==============================] - 0s 2ms/step - loss: nan - mse: nan\n",
      "Epoch 46/50\n",
      "2/2 [==============================] - 0s 2ms/step - loss: nan - mse: nan\n",
      "Epoch 47/50\n",
      "2/2 [==============================] - 0s 4ms/step - loss: nan - mse: nan\n",
      "Epoch 48/50\n",
      "2/2 [==============================] - 0s 3ms/step - loss: nan - mse: nan\n",
      "Epoch 49/50\n",
      "2/2 [==============================] - 0s 3ms/step - loss: nan - mse: nan\n",
      "Epoch 50/50\n",
      "2/2 [==============================] - 0s 2ms/step - loss: nan - mse: nan\n"
     ]
    },
    {
     "data": {
      "text/plain": [
       "<keras.callbacks.History at 0x243f7eb00d0>"
      ]
     },
     "execution_count": 37,
     "metadata": {},
     "output_type": "execute_result"
    }
   ],
   "source": [
    "regression.fit(i_train, o_train, epochs = 50)"
   ]
  },
  {
   "cell_type": "code",
   "execution_count": 38,
   "id": "b601995f",
   "metadata": {},
   "outputs": [],
   "source": [
    "regression.save(\"fruit_ann.h5\")"
   ]
  },
  {
   "cell_type": "code",
   "execution_count": 39,
   "id": "deb8072f",
   "metadata": {},
   "outputs": [],
   "source": [
    "from tensorflow.keras.models import load_model\n",
    "model=load_model('fruit_ann.h5')"
   ]
  },
  {
   "cell_type": "code",
   "execution_count": 41,
   "id": "65c8922e",
   "metadata": {},
   "outputs": [],
   "source": [
    "ypred = regression.predict(i_test)"
   ]
  },
  {
   "cell_type": "code",
   "execution_count": 42,
   "id": "95fd0523",
   "metadata": {},
   "outputs": [
    {
     "data": {
      "text/plain": [
       "array([[2.3743203e-07],\n",
       "       [2.4544335e-08],\n",
       "       [4.3173966e-07],\n",
       "       [0.0000000e+00],\n",
       "       [1.2547333e-06],\n",
       "       [1.3742024e-06],\n",
       "       [5.0621779e-08],\n",
       "       [3.5477569e-07],\n",
       "       [4.7215977e-08],\n",
       "       [3.4400310e-07],\n",
       "       [1.8973557e-07],\n",
       "       [1.0779197e-06]], dtype=float32)"
      ]
     },
     "execution_count": 42,
     "metadata": {},
     "output_type": "execute_result"
    }
   ],
   "source": [
    "ypred"
   ]
  },
  {
   "cell_type": "code",
   "execution_count": 43,
   "id": "bd672870",
   "metadata": {},
   "outputs": [
    {
     "data": {
      "text/plain": [
       "array([[False],\n",
       "       [False],\n",
       "       [False],\n",
       "       [False],\n",
       "       [False],\n",
       "       [False],\n",
       "       [False],\n",
       "       [False],\n",
       "       [False],\n",
       "       [False],\n",
       "       [False],\n",
       "       [False]])"
      ]
     },
     "execution_count": 43,
     "metadata": {},
     "output_type": "execute_result"
    }
   ],
   "source": [
    "ypred = ypred >0.5\n",
    "ypred"
   ]
  },
  {
   "cell_type": "code",
   "execution_count": 44,
   "id": "944e65ed",
   "metadata": {},
   "outputs": [
    {
     "data": {
      "text/plain": [
       "array([], shape=(12, 0), dtype=float64)"
      ]
     },
     "execution_count": 44,
     "metadata": {},
     "output_type": "execute_result"
    }
   ],
   "source": [
    "o_test"
   ]
  },
  {
   "cell_type": "code",
   "execution_count": 45,
   "id": "f92181e7",
   "metadata": {},
   "outputs": [
    {
     "data": {
      "text/html": [
       "<div>\n",
       "<style scoped>\n",
       "    .dataframe tbody tr th:only-of-type {\n",
       "        vertical-align: middle;\n",
       "    }\n",
       "\n",
       "    .dataframe tbody tr th {\n",
       "        vertical-align: top;\n",
       "    }\n",
       "\n",
       "    .dataframe thead th {\n",
       "        text-align: right;\n",
       "    }\n",
       "</style>\n",
       "<table border=\"1\" class=\"dataframe\">\n",
       "  <thead>\n",
       "    <tr style=\"text-align: right;\">\n",
       "      <th></th>\n",
       "      <th>fruit_label</th>\n",
       "      <th>fruit_name</th>\n",
       "      <th>fruit_subtype</th>\n",
       "      <th>mass</th>\n",
       "      <th>width</th>\n",
       "      <th>height</th>\n",
       "      <th>color_score</th>\n",
       "    </tr>\n",
       "  </thead>\n",
       "  <tbody>\n",
       "    <tr>\n",
       "      <th>0</th>\n",
       "      <td>1</td>\n",
       "      <td>apple</td>\n",
       "      <td>granny_smith</td>\n",
       "      <td>192</td>\n",
       "      <td>8.4</td>\n",
       "      <td>7.3</td>\n",
       "      <td>0.55</td>\n",
       "    </tr>\n",
       "    <tr>\n",
       "      <th>1</th>\n",
       "      <td>1</td>\n",
       "      <td>apple</td>\n",
       "      <td>granny_smith</td>\n",
       "      <td>180</td>\n",
       "      <td>8.0</td>\n",
       "      <td>6.8</td>\n",
       "      <td>0.59</td>\n",
       "    </tr>\n",
       "  </tbody>\n",
       "</table>\n",
       "</div>"
      ],
      "text/plain": [
       "   fruit_label fruit_name fruit_subtype  mass  width  height  color_score\n",
       "0            1      apple  granny_smith   192    8.4     7.3         0.55\n",
       "1            1      apple  granny_smith   180    8.0     6.8         0.59"
      ]
     },
     "execution_count": 45,
     "metadata": {},
     "output_type": "execute_result"
    }
   ],
   "source": [
    "dataset.head(2)"
   ]
  },
  {
   "cell_type": "code",
   "execution_count": 49,
   "id": "903a31d5",
   "metadata": {},
   "outputs": [],
   "source": [
    "ypred=regression.predict(s.transform(ct.transform([[2,'orange','mandarin',132, 5.6,5.8,0.58]])))"
   ]
  },
  {
   "cell_type": "code",
   "execution_count": 50,
   "id": "74cf2e8b",
   "metadata": {},
   "outputs": [
    {
     "data": {
      "text/plain": [
       "array([[0.]], dtype=float32)"
      ]
     },
     "execution_count": 50,
     "metadata": {},
     "output_type": "execute_result"
    }
   ],
   "source": [
    "ypred"
   ]
  },
  {
   "cell_type": "code",
   "execution_count": 53,
   "id": "29fba5c6",
   "metadata": {},
   "outputs": [],
   "source": [
    "import pickle\n",
    "pickle.dump(sc,open('fruit.save','wb'))"
   ]
  }
 ],
 "metadata": {
  "kernelspec": {
   "display_name": "Python 3",
   "language": "python",
   "name": "python3"
  },
  "language_info": {
   "codemirror_mode": {
    "name": "ipython",
    "version": 3
   },
   "file_extension": ".py",
   "mimetype": "text/x-python",
   "name": "python",
   "nbconvert_exporter": "python",
   "pygments_lexer": "ipython3",
   "version": "3.8.8"
  }
 },
 "nbformat": 4,
 "nbformat_minor": 5
}
