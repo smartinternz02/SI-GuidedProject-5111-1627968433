{
 "cells": [
  {
   "cell_type": "code",
   "execution_count": 1,
   "id": "830cfa85",
   "metadata": {},
   "outputs": [],
   "source": [
    "from tensorflow.keras.models import Sequential \n",
    "from tensorflow.keras.layers import Dense, Convolution2D, MaxPooling2D, Flatten"
   ]
  },
  {
   "cell_type": "code",
   "execution_count": 2,
   "id": "00d0a9fc",
   "metadata": {},
   "outputs": [],
   "source": [
    "from  tensorflow.keras.preprocessing.image import ImageDataGenerator\n",
    "#creating varables\n",
    "train_datagen = ImageDataGenerator(rescale = 1./255, shear_range = 0.2, zoom_range = 0.2, horizontal_flip = True)\n",
    "test_datagen = ImageDataGenerator(rescale = 1./255, shear_range = 0.2, zoom_range = 0.2, horizontal_flip = True)"
   ]
  },
  {
   "cell_type": "code",
   "execution_count": 3,
   "id": "886f32f0",
   "metadata": {},
   "outputs": [
    {
     "name": "stdout",
     "output_type": "stream",
     "text": [
      "Found 956 images belonging to 3 classes.\n",
      "Found 372 images belonging to 3 classes.\n"
     ]
    }
   ],
   "source": [
    "x_train=train_datagen.flow_from_directory(r\"D:\\myproject\\Items dataset\\trainset\",\n",
    "                                          target_size=(64,64),batch_size=32,class_mode=\"categorical\")\n",
    "\n",
    "x_test=test_datagen.flow_from_directory(r\"D:\\myproject\\Items dataset\\testset\",\n",
    "                                        target_size=(64,64),batch_size=32,class_mode=\"categorical\")"
   ]
  },
  {
   "cell_type": "code",
   "execution_count": 4,
   "id": "0650df61",
   "metadata": {},
   "outputs": [],
   "source": [
    "cnn = Sequential()\n",
    "cnn.add(Convolution2D(32,(3,3),input_shape = (64,64,3))) # convolution layer"
   ]
  },
  {
   "cell_type": "code",
   "execution_count": 5,
   "id": "786b737e",
   "metadata": {},
   "outputs": [],
   "source": [
    "cnn.add(MaxPooling2D((2,2))) # maxpooling layer"
   ]
  },
  {
   "cell_type": "code",
   "execution_count": 6,
   "id": "5dd92a88",
   "metadata": {},
   "outputs": [],
   "source": [
    "cnn.add(Flatten()) # inputs"
   ]
  },
  {
   "cell_type": "code",
   "execution_count": 7,
   "id": "e6d37419",
   "metadata": {},
   "outputs": [],
   "source": [
    "cnn.add(Dense(units = 128, kernel_initializer = \"random_uniform\", activation = \"relu\")) # hidden layers"
   ]
  },
  {
   "cell_type": "code",
   "execution_count": 8,
   "id": "18d0a2ce",
   "metadata": {},
   "outputs": [],
   "source": [
    "cnn.add(Dense(units = 3  ,kernel_initializer = \"random_uniform\",activation = \"softmax\")) # output layer"
   ]
  },
  {
   "cell_type": "code",
   "execution_count": 9,
   "id": "7f268c1f",
   "metadata": {},
   "outputs": [],
   "source": [
    "cnn.compile(optimizer = \"rmsprop\",loss = \"categorical_crossentropy\", metrics = [\"accuracy\"])"
   ]
  },
  {
   "cell_type": "code",
   "execution_count": 10,
   "id": "6ae220e9",
   "metadata": {},
   "outputs": [
    {
     "name": "stderr",
     "output_type": "stream",
     "text": [
      "C:\\Users\\ashna\\anaconda3\\lib\\site-packages\\keras\\engine\\training.py:1972: UserWarning: `Model.fit_generator` is deprecated and will be removed in a future version. Please use `Model.fit`, which supports generators.\n",
      "  warnings.warn('`Model.fit_generator` is deprecated and '\n"
     ]
    },
    {
     "name": "stdout",
     "output_type": "stream",
     "text": [
      "Epoch 1/15\n",
      "29/29 [==============================] - 14s 417ms/step - loss: 2.1940 - accuracy: 0.3849 - val_loss: 1.0394 - val_accuracy: 0.5296\n",
      "Epoch 2/15\n",
      "29/29 [==============================] - 12s 400ms/step - loss: 0.8957 - accuracy: 0.6025 - val_loss: 1.0224 - val_accuracy: 0.4435\n",
      "Epoch 3/15\n",
      "29/29 [==============================] - 12s 400ms/step - loss: 0.7136 - accuracy: 0.7113 - val_loss: 0.9478 - val_accuracy: 0.5054\n",
      "Epoch 4/15\n",
      "29/29 [==============================] - 12s 400ms/step - loss: 0.4550 - accuracy: 0.8797 - val_loss: 0.7491 - val_accuracy: 0.6720\n",
      "Epoch 5/15\n",
      "29/29 [==============================] - 12s 397ms/step - loss: 0.3259 - accuracy: 0.8839 - val_loss: 0.8809 - val_accuracy: 0.6075\n",
      "Epoch 6/15\n",
      "29/29 [==============================] - 12s 398ms/step - loss: 0.3382 - accuracy: 0.9048 - val_loss: 0.7106 - val_accuracy: 0.6532\n",
      "Epoch 7/15\n",
      "29/29 [==============================] - 12s 397ms/step - loss: 0.1195 - accuracy: 0.9728 - val_loss: 0.6164 - val_accuracy: 0.7446\n",
      "Epoch 8/15\n",
      "29/29 [==============================] - 12s 398ms/step - loss: 0.1689 - accuracy: 0.9383 - val_loss: 0.6883 - val_accuracy: 0.7204\n",
      "Epoch 9/15\n",
      "29/29 [==============================] - 12s 395ms/step - loss: 0.1199 - accuracy: 0.9582 - val_loss: 0.9433 - val_accuracy: 0.6613\n",
      "Epoch 10/15\n",
      "29/29 [==============================] - 12s 405ms/step - loss: 0.1350 - accuracy: 0.9571 - val_loss: 0.8917 - val_accuracy: 0.6640\n",
      "Epoch 11/15\n",
      "29/29 [==============================] - 12s 403ms/step - loss: 0.0521 - accuracy: 0.9801 - val_loss: 0.9677 - val_accuracy: 0.6774\n",
      "Epoch 12/15\n",
      "29/29 [==============================] - 12s 403ms/step - loss: 0.1559 - accuracy: 0.9529 - val_loss: 1.1970 - val_accuracy: 0.6425\n",
      "Epoch 13/15\n",
      "29/29 [==============================] - 12s 400ms/step - loss: 0.0846 - accuracy: 0.9697 - val_loss: 1.1759 - val_accuracy: 0.6801\n",
      "Epoch 14/15\n",
      "29/29 [==============================] - 12s 401ms/step - loss: 0.0284 - accuracy: 0.9937 - val_loss: 0.7169 - val_accuracy: 0.7527\n",
      "Epoch 15/15\n",
      "29/29 [==============================] - 12s 396ms/step - loss: 0.0725 - accuracy: 0.9749 - val_loss: 1.4291 - val_accuracy: 0.6505\n"
     ]
    },
    {
     "data": {
      "text/plain": [
       "<keras.callbacks.History at 0x220d7f99670>"
      ]
     },
     "execution_count": 10,
     "metadata": {},
     "output_type": "execute_result"
    }
   ],
   "source": [
    "cnn.fit_generator(x_train , steps_per_epoch = 956/32 , epochs = 15, validation_data = x_test , validation_steps = 372/32 )"
   ]
  },
  {
   "cell_type": "code",
   "execution_count": 11,
   "id": "287f6c93",
   "metadata": {},
   "outputs": [],
   "source": [
    "cnn.save(\"items.h5\")"
   ]
  }
 ],
 "metadata": {
  "kernelspec": {
   "display_name": "Python 3",
   "language": "python",
   "name": "python3"
  },
  "language_info": {
   "codemirror_mode": {
    "name": "ipython",
    "version": 3
   },
   "file_extension": ".py",
   "mimetype": "text/x-python",
   "name": "python",
   "nbconvert_exporter": "python",
   "pygments_lexer": "ipython3",
   "version": "3.8.8"
  }
 },
 "nbformat": 4,
 "nbformat_minor": 5
}
