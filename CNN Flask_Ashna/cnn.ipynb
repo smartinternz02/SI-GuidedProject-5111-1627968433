{
 "cells": [
  {
   "cell_type": "code",
   "execution_count": 1,
   "id": "0c25ca07",
   "metadata": {},
   "outputs": [],
   "source": [
    "from tensorflow.keras.models import Sequential\n",
    "from tensorflow.keras.layers import Dense, Convolution2D,MaxPooling2D,Flatten"
   ]
  },
  {
   "cell_type": "code",
   "execution_count": 2,
   "id": "12d4a933",
   "metadata": {},
   "outputs": [],
   "source": [
    "from tensorflow.keras.preprocessing.image import ImageDataGenerator"
   ]
  },
  {
   "cell_type": "code",
   "execution_count": 3,
   "id": "45779f09",
   "metadata": {},
   "outputs": [],
   "source": [
    "train_datagen = ImageDataGenerator(rescale = 1./255,shear_range = 0.2,zoom_range = 0.2 , horizontal_flip = True)\n",
    "test_datagen = ImageDataGenerator(rescale = 1./255)"
   ]
  },
  {
   "cell_type": "code",
   "execution_count": 5,
   "id": "c2de3da0",
   "metadata": {},
   "outputs": [
    {
     "name": "stdout",
     "output_type": "stream",
     "text": [
      "Found 2920 images belonging to 6 classes.\n",
      "Found 661 images belonging to 6 classes.\n"
     ]
    }
   ],
   "source": [
    "x_train = train_datagen.flow_from_directory(r\"D:\\myproject\\Project\\fruits dataset\\trainset\",target_size = (64,64),\n",
    "                                            batch_size = 32, class_mode = \"categorical\")\n",
    "x_test = test_datagen.flow_from_directory(r\"D:\\myproject\\Project\\fruits dataset\\testset\",target_size = (64,64),\n",
    "                                          batch_size = 32, class_mode = \"categorical\")"
   ]
  },
  {
   "cell_type": "code",
   "execution_count": 6,
   "id": "b5103b5f",
   "metadata": {},
   "outputs": [],
   "source": [
    "cnn = Sequential()"
   ]
  },
  {
   "cell_type": "code",
   "execution_count": 7,
   "id": "7955c232",
   "metadata": {},
   "outputs": [],
   "source": [
    "cnn.add(Convolution2D(32,(3,3),input_shape= (64,64,3)))"
   ]
  },
  {
   "cell_type": "code",
   "execution_count": 8,
   "id": "9ea79182",
   "metadata": {},
   "outputs": [],
   "source": [
    "cnn.add(MaxPooling2D((2,2)))"
   ]
  },
  {
   "cell_type": "code",
   "execution_count": 9,
   "id": "70b2fb94",
   "metadata": {},
   "outputs": [],
   "source": [
    "cnn.add(Flatten()) # inputs to ann "
   ]
  },
  {
   "cell_type": "code",
   "execution_count": 13,
   "id": "e32628db",
   "metadata": {},
   "outputs": [],
   "source": [
    "cnn.add(Dense(units =128 ,kernel_initializer = \"random_uniform\",activation = \"relu\"))"
   ]
  },
  {
   "cell_type": "code",
   "execution_count": 14,
   "id": "9f38c942",
   "metadata": {},
   "outputs": [],
   "source": [
    "cnn.add(Dense(units = 6  ,kernel_initializer = \"random_uniform\",activation = \"softmax\"))"
   ]
  },
  {
   "cell_type": "code",
   "execution_count": 15,
   "id": "22301f62",
   "metadata": {},
   "outputs": [],
   "source": [
    "cnn.compile(optimizer = \"rmsprop\",loss = \"categorical_crossentropy\", metrics = [\"accuracy\"])"
   ]
  },
  {
   "cell_type": "code",
   "execution_count": 16,
   "id": "c962a2e2",
   "metadata": {},
   "outputs": [
    {
     "name": "stderr",
     "output_type": "stream",
     "text": [
      "C:\\Users\\ashna\\anaconda3\\lib\\site-packages\\keras\\engine\\training.py:1972: UserWarning: `Model.fit_generator` is deprecated and will be removed in a future version. Please use `Model.fit`, which supports generators.\n",
      "  warnings.warn('`Model.fit_generator` is deprecated and '\n"
     ]
    },
    {
     "name": "stdout",
     "output_type": "stream",
     "text": [
      "Epoch 1/15\n",
      "91/91 [==============================] - 45s 481ms/step - loss: 1.7924 - accuracy: 0.1524 - val_loss: 1.7922 - val_accuracy: 0.1619\n",
      "Epoch 2/15\n",
      "91/91 [==============================] - 15s 164ms/step - loss: 1.7922 - accuracy: 0.1627 - val_loss: 1.7920 - val_accuracy: 0.1543\n",
      "Epoch 3/15\n",
      "91/91 [==============================] - 15s 164ms/step - loss: 1.7922 - accuracy: 0.1551 - val_loss: 1.7920 - val_accuracy: 0.1815\n",
      "Epoch 4/15\n",
      "91/91 [==============================] - 15s 163ms/step - loss: 1.7921 - accuracy: 0.1551 - val_loss: 1.7920 - val_accuracy: 0.1543\n",
      "Epoch 5/15\n",
      "91/91 [==============================] - 15s 164ms/step - loss: 1.7920 - accuracy: 0.1606 - val_loss: 1.7919 - val_accuracy: 0.1815\n",
      "Epoch 6/15\n",
      "91/91 [==============================] - 15s 164ms/step - loss: 1.7920 - accuracy: 0.1664 - val_loss: 1.7920 - val_accuracy: 0.1619\n",
      "Epoch 7/15\n",
      "91/91 [==============================] - 15s 165ms/step - loss: 1.7920 - accuracy: 0.1507 - val_loss: 1.7920 - val_accuracy: 0.1619\n",
      "Epoch 8/15\n",
      "91/91 [==============================] - 15s 164ms/step - loss: 1.7919 - accuracy: 0.1671 - val_loss: 1.7922 - val_accuracy: 0.1619\n",
      "Epoch 9/15\n",
      "91/91 [==============================] - 15s 163ms/step - loss: 1.7919 - accuracy: 0.1582 - val_loss: 1.7922 - val_accuracy: 0.1619\n",
      "Epoch 10/15\n",
      "91/91 [==============================] - 15s 163ms/step - loss: 1.7919 - accuracy: 0.1623 - val_loss: 1.7921 - val_accuracy: 0.1815\n",
      "Epoch 11/15\n",
      "91/91 [==============================] - 15s 166ms/step - loss: 1.7919 - accuracy: 0.1620 - val_loss: 1.7922 - val_accuracy: 0.1619\n",
      "Epoch 12/15\n",
      "91/91 [==============================] - 15s 165ms/step - loss: 1.7919 - accuracy: 0.1572 - val_loss: 1.7922 - val_accuracy: 0.1619\n",
      "Epoch 13/15\n",
      "91/91 [==============================] - 15s 164ms/step - loss: 1.7918 - accuracy: 0.1634 - val_loss: 1.7923 - val_accuracy: 0.1543\n",
      "Epoch 14/15\n",
      "91/91 [==============================] - 15s 167ms/step - loss: 1.7919 - accuracy: 0.1634 - val_loss: 1.7922 - val_accuracy: 0.1815\n",
      "Epoch 15/15\n",
      "91/91 [==============================] - 15s 163ms/step - loss: 1.7918 - accuracy: 0.1616 - val_loss: 1.7922 - val_accuracy: 0.1543\n"
     ]
    },
    {
     "data": {
      "text/plain": [
       "<keras.callbacks.History at 0x201d36e0b50>"
      ]
     },
     "execution_count": 16,
     "metadata": {},
     "output_type": "execute_result"
    }
   ],
   "source": [
    "cnn.fit_generator(x_train , steps_per_epoch = 2920/32 , epochs = 15, validation_data = x_test , validation_steps = 661/32 )"
   ]
  },
  {
   "cell_type": "code",
   "execution_count": 17,
   "id": "4c810fa8",
   "metadata": {},
   "outputs": [],
   "source": [
    "cnn.save(\"fruit.h5\")"
   ]
  },
  {
   "cell_type": "code",
   "execution_count": null,
   "id": "0f47b64a",
   "metadata": {},
   "outputs": [],
   "source": []
  }
 ],
 "metadata": {
  "kernelspec": {
   "display_name": "Python 3",
   "language": "python",
   "name": "python3"
  },
  "language_info": {
   "codemirror_mode": {
    "name": "ipython",
    "version": 3
   },
   "file_extension": ".py",
   "mimetype": "text/x-python",
   "name": "python",
   "nbconvert_exporter": "python",
   "pygments_lexer": "ipython3",
   "version": "3.8.8"
  }
 },
 "nbformat": 4,
 "nbformat_minor": 5
}
